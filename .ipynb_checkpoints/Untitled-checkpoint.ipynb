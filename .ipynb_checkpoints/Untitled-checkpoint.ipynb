{
 "cells": [
  {
   "cell_type": "code",
   "execution_count": null,
   "id": "effedf6b",
   "metadata": {},
   "outputs": [],
   "source": [
    "data[\"LoanID\"].fillna(data[\"LoanID\"].mode()[0], inplace=True)\n",
    "data[\"CustomerID\"].fillna(data[\"CustomerID\"].mode()[0], inplace=True)\n",
    "data[\"Term\"].fillna(data[\"Term\"].mode()[0], inplace=True)\n",
    "data[\"LoanStatus\"].fillna(data[\"LoanStatus\"].mode()[0], inplace=True)\n",
    "data[\"HomeOwnership\"].fillna(data[\"HomeOwnership\"].mode()[0], inplace=True)\n",
    "data[\"Purpose\"].fillna(data[\"Purpose\"].mode()[0], inplace=True)"
   ]
  },
  {
   "cell_type": "code",
   "execution_count": null,
   "id": "66317afc",
   "metadata": {},
   "outputs": [],
   "source": [
    "data.CreditScore = data.CreditScore.fillna(data.CreditScore.mean())\n",
    "data.MonthlyDebt = data.MonthlyDebt.fillna(data.MonthlyDebt.mean())\n",
    "data.YearsofCreditHistory = data.YearsofCreditHistory.fillna(data.YearsofCreditHistory.mean())\n",
    "data.Monthssincelastdelinquent = data.Monthssincelastdelinquent.fillna(data.Monthssincelastdelinquent.mean())\n",
    "data.NumberofOpenAccounts = data.NumberofOpenAccounts.fillna(data.NumberofOpenAccounts.mean())\n",
    "data.NumberofCreditProblems = data.NumberofCreditProblems.fillna(data.NumberofCreditProblems.mean())\n",
    "data.Bankruptcies = data.Bankruptcies.fillna(data.Bankruptcies.mean())\n",
    "data.TaxLiens = data.TaxLiens.fillna(data.TaxLiens.mean())"
   ]
  }
 ],
 "metadata": {
  "kernelspec": {
   "display_name": "Python 3",
   "language": "python",
   "name": "python3"
  },
  "language_info": {
   "codemirror_mode": {
    "name": "ipython",
    "version": 3
   },
   "file_extension": ".py",
   "mimetype": "text/x-python",
   "name": "python",
   "nbconvert_exporter": "python",
   "pygments_lexer": "ipython3",
   "version": "3.8.5"
  }
 },
 "nbformat": 4,
 "nbformat_minor": 5
}
